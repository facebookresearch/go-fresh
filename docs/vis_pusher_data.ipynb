{
 "cells": [
  {
   "cell_type": "code",
   "execution_count": 1,
   "id": "rational-compensation",
   "metadata": {},
   "outputs": [
    {
     "name": "stdout",
     "output_type": "stream",
     "text": [
      "pygame 2.0.1 (SDL 2.0.14, Python 3.7.4)\n",
      "Hello from the pygame community. https://www.pygame.org/contribute.html\n"
     ]
    }
   ],
   "source": [
    "import gym\n",
    "import multiworld\n",
    "\n",
    "#from multiworld.envs.mujoco.cameras import sawyer_init_camera_zoomed_in"
   ]
  },
  {
   "cell_type": "code",
   "execution_count": 2,
   "id": "mechanical-location",
   "metadata": {},
   "outputs": [],
   "source": [
    "import matplotlib.pyplot as plt\n",
    "\n",
    "%matplotlib inline"
   ]
  },
  {
   "cell_type": "code",
   "execution_count": 3,
   "id": "dangerous-census",
   "metadata": {},
   "outputs": [],
   "source": [
    "multiworld.register_all_envs()"
   ]
  },
  {
   "cell_type": "code",
   "execution_count": 4,
   "id": "indirect-explosion",
   "metadata": {},
   "outputs": [],
   "source": [
    "env = gym.make('SawyerPushNIPSEasy-v0')"
   ]
  },
  {
   "cell_type": "code",
   "execution_count": 5,
   "id": "sensitive-commission",
   "metadata": {},
   "outputs": [],
   "source": [
    "#env.initialize_camera(sawyer_init_camera_zoomed_in)"
   ]
  },
  {
   "cell_type": "code",
   "execution_count": 6,
   "id": "familiar-phone",
   "metadata": {},
   "outputs": [],
   "source": [
    "obs = env.reset()"
   ]
  },
  {
   "cell_type": "code",
   "execution_count": 7,
   "id": "norman-relevance",
   "metadata": {},
   "outputs": [
    {
     "data": {
      "text/plain": [
       "{'observation': array([-0.01997255,  0.50003716,  0.        ,  0.6       ]),\n",
       " 'state_observation': array([-0.01997255,  0.50003716,  0.        ,  0.6       ]),\n",
       " 'desired_goal': array([ 0.04145491,  0.6004046 , -0.01362889,  0.51762743]),\n",
       " 'state_desired_goal': array([ 0.04145491,  0.6004046 , -0.01362889,  0.51762743]),\n",
       " 'achieved_goal': array([-0.01997255,  0.50003716,  0.        ,  0.6       ]),\n",
       " 'state_achieved_goal': array([-0.01997255,  0.50003716,  0.        ,  0.6       ]),\n",
       " 'puck_pos': array([0. , 0.6]),\n",
       " 'hand_pos': array([-0.01997255,  0.50003716])}"
      ]
     },
     "execution_count": 7,
     "metadata": {},
     "output_type": "execute_result"
    }
   ],
   "source": [
    "obs"
   ]
  },
  {
   "cell_type": "code",
   "execution_count": 15,
   "id": "documentary-radiation",
   "metadata": {},
   "outputs": [
    {
     "data": {
      "image/png": "[encoded data removed]",
      "text/plain": [
       "<Figure size 432x288 with 1 Axes>"
      ]
     },
     "metadata": {
      "needs_background": "light"
     },
     "output_type": "display_data"
    }
   ],
   "source": [
    "obs, _, _, _ = env.step(env.action_space.sample())\n",
    "\n",
    "img = env.render(mode='rgb_array', height=100, width=100)\n",
    "\n",
    "plt.imshow(img)\n",
    "plt.show()"
   ]
  },
  {
   "cell_type": "code",
   "execution_count": 22,
   "id": "photographic-midnight",
   "metadata": {},
   "outputs": [
    {
     "data": {
      "text/plain": [
       "(MjSimState(time=0.8000000000000006, qpos=array([ 1.78020229e+00, -5.57726290e-01, -3.37009458e-01,  2.08170025e+00,\n",
       "         1.32170386e+00,  2.92621215e-01,  2.03069780e+00,  2.47738504e-09,\n",
       "         6.00000000e-01,  1.59710079e-02,  9.99999990e-01,  3.05766105e-05,\n",
       "        -3.78462492e-06,  1.38684523e-04,  4.14549141e-02,  6.00404602e-01,\n",
       "         2.09686080e-02,  7.07106781e-01,  1.48979724e-14,  7.07106781e-01,\n",
       "        -1.48999170e-14, -1.36288851e-02,  5.17627434e-01,  2.09686080e-02,\n",
       "         7.07106781e-01,  0.00000000e+00,  7.07106781e-01,  0.00000000e+00]), qvel=array([ 3.00707464e-05,  1.99868111e-02, -7.16463398e-03, -1.36315461e-01,\n",
       "        -3.41812320e-01,  4.51673942e-02,  3.62216901e-01,  3.13289795e-09,\n",
       "         2.82392718e-09, -2.38862995e-10, -3.01384452e-07,  5.45378584e-08,\n",
       "        -1.05119800e-12,  1.65653890e-18,  7.70371978e-34,  4.74388729e-17,\n",
       "        -1.56517101e-47,  8.08856883e-17,  8.57886234e-30, -1.65653890e-18,\n",
       "        -1.65653890e-18,  4.72887278e-17, -2.54904904e-49, -8.08856883e-17,\n",
       "         8.08856883e-17]), act=None, udd_state={}),\n",
       " (array([[-0.04683586,  0.56269452,  0.02596948]]),\n",
       "  array([[0.70710678, 0.        , 0.70710678, 0.        ]])))"
      ]
     },
     "execution_count": 22,
     "metadata": {},
     "output_type": "execute_result"
    }
   ],
   "source": [
    "env.get_env_state()"
   ]
  },
  {
   "cell_type": "code",
   "execution_count": 23,
   "id": "institutional-antibody",
   "metadata": {},
   "outputs": [
    {
     "data": {
      "text/plain": [
       "{'observation': array([-4.10131200e-02,  5.58107740e-01,  2.47111924e-09,  6.00000000e-01]),\n",
       " 'state_observation': array([-4.10131200e-02,  5.58107740e-01,  2.47111924e-09,  6.00000000e-01]),\n",
       " 'desired_goal': array([ 0.04145491,  0.6004046 , -0.01362889,  0.51762743]),\n",
       " 'state_desired_goal': array([ 0.04145491,  0.6004046 , -0.01362889,  0.51762743]),\n",
       " 'achieved_goal': array([-4.10131200e-02,  5.58107740e-01,  2.47111924e-09,  6.00000000e-01]),\n",
       " 'state_achieved_goal': array([-4.10131200e-02,  5.58107740e-01,  2.47111924e-09,  6.00000000e-01]),\n",
       " 'puck_pos': array([2.47111924e-09, 6.00000000e-01]),\n",
       " 'hand_pos': array([-0.04101312,  0.55810774])}"
      ]
     },
     "execution_count": 23,
     "metadata": {},
     "output_type": "execute_result"
    }
   ],
   "source": [
    "obs"
   ]
  },
  {
   "cell_type": "code",
   "execution_count": 1,
   "id": "employed-sterling",
   "metadata": {},
   "outputs": [
    {
     "name": "stderr",
     "output_type": "stream",
     "text": [
      "/private/home/linamezghani/.conda/envs/polybeast/lib/python3.7/site-packages/omegaconf/resolvers/__init__.py:13: UserWarning: The `env` resolver is deprecated, see https://github.com/omry/omegaconf/issues/573\n",
      "  \"The `env` resolver is deprecated, see https://github.com/omry/omegaconf/issues/573\"\n"
     ]
    }
   ],
   "source": [
    "from omegaconf import OmegaConf\n",
    "\n",
    "cfg_path = f\"../conf/config.yaml\"\n",
    "\n",
    "env_name = 'pusher'\n",
    "\n",
    "cfg = OmegaConf.load(cfg_path)\n",
    "env_cfg = OmegaConf.load(f'../conf/env/{env_name}.yaml')\n",
    "env_cfg.action_repeat=1\n",
    "cfg = OmegaConf.merge(cfg, env_cfg)"
   ]
  },
  {
   "cell_type": "code",
   "execution_count": 2,
   "id": "laughing-aberdeen",
   "metadata": {},
   "outputs": [
    {
     "name": "stdout",
     "output_type": "stream",
     "text": [
      "{'id': 'pusher', 'success_thresh': 1.0, 'max_episode_steps': 100, 'action_repeat': 1, 'random_start_pos': False, 'obs': {'type': 'vec', 'state_size': 4, 'vec_size': 4, 'rgb_size': 64, 'no_velocity_size': 4}, 'action_dim': 2, 'frame_stack': 1, 'obs_type': 'vec'}\n"
     ]
    }
   ],
   "source": [
    "print(cfg.env)"
   ]
  },
  {
   "cell_type": "code",
   "execution_count": 3,
   "id": "graphic-football",
   "metadata": {},
   "outputs": [],
   "source": [
    "import os\n",
    "import sys\n",
    "module_path = os.path.abspath(os.path.join('..'))\n",
    "if module_path not in sys.path:\n",
    "    sys.path.append(module_path)\n",
    "\n",
    "import envs\n",
    "import utils\n",
    "\n",
    "space_info = utils.get_space_info(cfg.env.obs, cfg.env.action_dim)"
   ]
  },
  {
   "cell_type": "code",
   "execution_count": 4,
   "id": "under-shannon",
   "metadata": {},
   "outputs": [
    {
     "name": "stdout",
     "output_type": "stream",
     "text": [
      "pygame 2.0.1 (SDL 2.0.14, Python 3.7.4)\n",
      "Hello from the pygame community. https://www.pygame.org/contribute.html\n"
     ]
    }
   ],
   "source": [
    "env = envs.make_env(cfg.env, space_info)"
   ]
  },
  {
   "cell_type": "code",
   "execution_count": 5,
   "id": "mathematical-mixture",
   "metadata": {},
   "outputs": [
    {
     "data": {
      "text/plain": [
       "dict_keys(['state', 'vec_obs', 'rgb_obs'])"
      ]
     },
     "execution_count": 5,
     "metadata": {},
     "output_type": "execute_result"
    }
   ],
   "source": [
    "env.goals.keys()"
   ]
  },
  {
   "cell_type": "code",
   "execution_count": 6,
   "id": "violent-wright",
   "metadata": {},
   "outputs": [],
   "source": [
    "obs = env.reset()"
   ]
  },
  {
   "cell_type": "code",
   "execution_count": 7,
   "id": "inside-theme",
   "metadata": {},
   "outputs": [
    {
     "data": {
      "text/plain": [
       "{'time': 0.0,\n",
       " 'state': array([-0.01997255,  0.50003716,  0.        ,  0.6       ]),\n",
       " 'goal_state': array([-3.92270440e-04,  6.25207595e-01, -7.06286893e-02,  5.53919207e-01]),\n",
       " 'obs': array([-0.01997255,  0.50003716,  0.        ,  0.6       ]),\n",
       " 'goal_obs': array([-3.92270440e-04,  6.25207595e-01, -7.06286893e-02,  5.53919207e-01])}"
      ]
     },
     "execution_count": 7,
     "metadata": {},
     "output_type": "execute_result"
    }
   ],
   "source": [
    "obs"
   ]
  },
  {
   "cell_type": "code",
   "execution_count": 8,
   "id": "figured-christianity",
   "metadata": {},
   "outputs": [],
   "source": [
    "obs, reward, done, info = env.step(env.action_space.sample()) "
   ]
  },
  {
   "cell_type": "code",
   "execution_count": 9,
   "id": "fifteen-organic",
   "metadata": {},
   "outputs": [
    {
     "data": {
      "text/plain": [
       "{'time': 0.01,\n",
       " 'state': array([-1.84280185e-02,  5.32966186e-01,  5.37093232e-10,  6.00000000e-01]),\n",
       " 'goal_state': array([-3.92270440e-04,  6.25207595e-01, -7.06286893e-02,  5.53919207e-01]),\n",
       " 'obs': array([-1.84280185e-02,  5.32966186e-01,  5.37093232e-10,  6.00000000e-01]),\n",
       " 'goal_obs': array([-3.92270440e-04,  6.25207595e-01, -7.06286893e-02,  5.53919207e-01])}"
      ]
     },
     "execution_count": 9,
     "metadata": {},
     "output_type": "execute_result"
    }
   ],
   "source": [
    "obs"
   ]
  },
  {
   "cell_type": "code",
   "execution_count": 10,
   "id": "suburban-damages",
   "metadata": {},
   "outputs": [
    {
     "data": {
      "text/plain": [
       "-0.08433179274469355"
      ]
     },
     "execution_count": 10,
     "metadata": {},
     "output_type": "execute_result"
    }
   ],
   "source": [
    "reward"
   ]
  },
  {
   "cell_type": "code",
   "execution_count": 11,
   "id": "unlikely-stylus",
   "metadata": {},
   "outputs": [
    {
     "data": {
      "text/plain": [
       "False"
      ]
     },
     "execution_count": 11,
     "metadata": {},
     "output_type": "execute_result"
    }
   ],
   "source": [
    "done"
   ]
  },
  {
   "cell_type": "code",
   "execution_count": 12,
   "id": "metallic-distinction",
   "metadata": {},
   "outputs": [
    {
     "data": {
      "text/plain": [
       "{'oracle_distance': 0.08433179274469355,\n",
       " 'oracle_success': True,\n",
       " 'hand_distance': 0.09398811530021094,\n",
       " 'puck_distance': 0.08433179274469355}"
      ]
     },
     "execution_count": 12,
     "metadata": {},
     "output_type": "execute_result"
    }
   ],
   "source": [
    "info"
   ]
  },
  {
   "cell_type": "code",
   "execution_count": null,
   "id": "cloudy-reason",
   "metadata": {},
   "outputs": [],
   "source": []
  }
 ],
 "metadata": {
  "kernelspec": {
   "display_name": "polybeast",
   "language": "python",
   "name": "polybeast"
  },
  "language_info": {
   "codemirror_mode": {
    "name": "ipython",
    "version": 3
   },
   "file_extension": ".py",
   "mimetype": "text/x-python",
   "name": "python",
   "nbconvert_exporter": "python",
   "pygments_lexer": "ipython3",
   "version": "3.7.4"
  }
 },
 "nbformat": 4,
 "nbformat_minor": 5
}
