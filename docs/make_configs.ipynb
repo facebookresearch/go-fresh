{
 "cells": [
  {
   "cell_type": "code",
   "execution_count": 1,
   "id": "suited-distribution",
   "metadata": {},
   "outputs": [],
   "source": [
    "from pathlib import Path\n",
    "\n",
    "from omegaconf import OmegaConf"
   ]
  },
  {
   "cell_type": "code",
   "execution_count": 84,
   "id": "entitled-south",
   "metadata": {},
   "outputs": [],
   "source": [
    "logs_dir = Path('/checkpoint/linamezghani/offline-gcrl/logs/')\n",
    "\n",
    "exp_name = \"20220920-081223_maze_U4rooms_ours_s123_r0\"\n",
    "\n",
    "tmp_path = logs_dir / \"multirun\" / exp_name\n",
    "cfg_path1 = tmp_path / list(tmp_path.iterdir())[0] /\".hydra\" / \"config.yaml\"\n",
    "\n",
    "cfg = OmegaConf.load(cfg_path)"
   ]
  },
  {
   "cell_type": "code",
   "execution_count": 85,
   "id": "gross-binary",
   "metadata": {},
   "outputs": [],
   "source": [
    "logs_dir = Path('/checkpoint/linamezghani/offline-gcrl/logs/')\n",
    "\n",
    "exp_name = \"20220920-081011_maze_U4rooms_ours-load_model_s123_r0\"\n",
    "\n",
    "tmp_path = logs_dir / \"multirun\" / exp_name\n",
    "cfg_path2 = tmp_path / list(tmp_path.iterdir())[0] /\".hydra\" / \"config.yaml\"\n",
    "\n",
    "cfg = OmegaConf.load(cfg_path)"
   ]
  },
  {
   "cell_type": "code",
   "execution_count": 52,
   "id": "amber-policy",
   "metadata": {},
   "outputs": [
    {
     "name": "stdout",
     "output_type": "stream",
     "text": [
      "ls: cannot access '/checkpoint/linamezghani/offline-gcrl/logs/multirun/20220530-051512_maze_U4rooms_rs0.01-lr0.001-bs1024-updates1000-alpha0.01-gamma0.99-graph_sig-reward-temp-1.0-subgoalFalse-asym-fix-seed_cudnn_s234_r0': No such file or directory\r\n"
     ]
    }
   ],
   "source": [
    "!ls /checkpoint/linamezghani/offline-gcrl/logs/multirun/20220530-051512_maze_U4rooms_rs0.01-lr0.001-bs1024-updates1000-alpha0.01-gamma0.99-graph_sig-reward-temp-1.0-subgoalFalse-asym-fix-seed_cudnn_s234_r0"
   ]
  },
  {
   "cell_type": "code",
   "execution_count": 53,
   "id": "continent-delta",
   "metadata": {},
   "outputs": [
    {
     "name": "stdout",
     "output_type": "stream",
     "text": [
      "ls: cannot access 'outputs/': No such file or directory\r\n"
     ]
    }
   ],
   "source": [
    "!ls outputs/"
   ]
  },
  {
   "cell_type": "code",
   "execution_count": 24,
   "id": "handmade-airport",
   "metadata": {},
   "outputs": [
    {
     "data": {
      "text/plain": [
       "[PosixPath('/checkpoint/linamezghani/offline-gcrl/logs/multirun/20220613-074149_walker_unsup-final-vec_edge-transTrue-subgoal-transTrue-with-velo_rb1M_s123_r0/2/.hydra/config.yaml'),\n",
       " PosixPath('/checkpoint/linamezghani/offline-gcrl/logs/multirun/20220613-074149_walker_unsup-final-vec_edge-transTrue-subgoal-transTrue-with-velo_rb1M_s123_r0/2/.hydra/hydra.yaml'),\n",
       " PosixPath('/checkpoint/linamezghani/offline-gcrl/logs/multirun/20220613-074149_walker_unsup-final-vec_edge-transTrue-subgoal-transTrue-with-velo_rb1M_s123_r0/2/.hydra/overrides.yaml')]"
      ]
     },
     "execution_count": 24,
     "metadata": {},
     "output_type": "execute_result"
    }
   ],
   "source": [
    "list(cfg_path.parent.iterdir())"
   ]
  },
  {
   "cell_type": "code",
   "execution_count": 25,
   "id": "finnish-soccer",
   "metadata": {},
   "outputs": [],
   "source": [
    "over_path = tmp_path / list(tmp_path.iterdir())[0] /\".hydra\" / \"overrides.yaml\"\n"
   ]
  },
  {
   "cell_type": "code",
   "execution_count": 26,
   "id": "breeding-organization",
   "metadata": {},
   "outputs": [
    {
     "name": "stdout",
     "output_type": "stream",
     "text": [
      "- +exp=walker_rnet_thresh\n",
      "- main.suffix=unsup-final-vec_edge-trans$\\{main.edge_transitions\\}-subgoal-trans$\\{main.subgoal_transitions\\}-with-velo_rb1M\n",
      "- main.load_from_dir=/checkpoint/linamezghani/offline-gcrl/trained_rnet/walker_memonly_thresh2_neg0_skip0.05_new-graph\n",
      "- rnet.model.hidden_size=128\n",
      "- rnet.model.comp_n_layers=4\n",
      "- rnet.model.feat_size=128\n",
      "- env.action_repeat=2\n",
      "- main.reward=graph_sig\n",
      "- replay_buffer.capacity=1000000\n",
      "- replay_buffer.num_procs=20\n",
      "- main.edge_transitions=True\n",
      "- sac.policy.head.remove_velocity=False\n",
      "- plot.type=wandb\n",
      "- main.seed=123\n",
      "- train.goal_strat=rb\n",
      "- main.subgoal_transitions=True\n",
      "- main.reward_sigm_temp=1\n",
      "- eval.interval_epochs=20\n",
      "- sac.optim.batch_size=2048\n",
      "- replay_buffer.reward_scaling=0.5\n",
      "- sac.optim.lr=0.0003\n",
      "- sac.optim.entropy.alpha=0.01\n",
      "- sac.optim.gamma=0.95\n",
      "- optim.num_epochs=5001\n",
      "\n"
     ]
    }
   ],
   "source": [
    "print(over_path.read_text())"
   ]
  },
  {
   "cell_type": "code",
   "execution_count": 27,
   "id": "streaming-chick",
   "metadata": {},
   "outputs": [
    {
     "name": "stdout",
     "output_type": "stream",
     "text": [
      "embs.pth  memory.npy  model.pth\r\n"
     ]
    }
   ],
   "source": [
    "ls /checkpoint/linamezghani/offline-gcrl/trained_rnet/walker_memonly_thresh2_neg0_skip0.05_new-graph"
   ]
  },
  {
   "cell_type": "code",
   "execution_count": null,
   "id": "proper-novel",
   "metadata": {},
   "outputs": [],
   "source": [
    "\"walker_memonly_thresh2_neg0_skip0.05_new-graph\""
   ]
  },
  {
   "cell_type": "code",
   "execution_count": 86,
   "id": "induced-substance",
   "metadata": {},
   "outputs": [
    {
     "name": "stdout",
     "output_type": "stream",
     "text": [
      "{'type_changes': {\"root['main']['load_from_dir']\": {'old_type': <class 'str'>, 'new_type': <class 'NoneType'>, 'old_value': '/checkpoint/linamezghani/offline-gcrl/trained_rnet/maze_asym-fixed-new/', 'new_value': None}}, 'dictionary_item_added': [root['main']['edge_transitions'], root['exploration_buffer']['algo'], root['replay_buffer']['algo'], root['replay_buffer']['neg_action'], root['replay_buffer']['neg_goal'], root['replay_buffer']['cut_traj']], 'dictionary_item_removed': [root['rnet']['memory']['skip_traj']], 'values_changed': {\"root['main']['suffix']\": {'new_value': 'ours', 'old_value': 'rs${replay_buffer.reward_scaling}-lr${sac.optim.lr}-bs${sac.optim.batch_size}-updates${sac.optim.num_updates_per_epoch}-alpha${sac.optim.entropy.alpha}-gamma${sac.optim.gamma}-${main.reward}-reward-temp-${main.reward_sigm_temp}-subgoal${main.subgoal_transitions}-asym-fix-seed_cudnn'}, \"root['main']['seed']\": {'new_value': 123, 'old_value': 234}, \"root['main']['subgoal_transitions']\": {'new_value': True, 'old_value': False}, \"root['plot']['type']\": {'new_value': 'wandb', 'old_value': 'tb'}, \"root['replay_buffer']['capacity']\": {'new_value': 1000000, 'old_value': 100000}, \"root['replay_buffer']['reward_scaling']\": {'new_value': 0.1, 'old_value': 0.01}, \"root['replay_buffer']['num_procs']\": {'new_value': 20, 'old_value': 10}, \"root['eval']['interval_epochs']\": {'new_value': 10, 'old_value': 1}, \"root['sac']['optim']['lr']\": {'new_value': 0.0003, 'old_value': 0.001}, \"root['sac']['optim']['batch_size']\": {'new_value': 2048, 'old_value': 1024}, \"root['sac']['optim']['gamma']\": {'new_value': 0.9, 'old_value': 0.99}, \"root['sac']['optim']['entropy']['alpha']\": {'new_value': 0.05, 'old_value': 0.01}, \"root['rnet']['memory']['node_skip']\": {'new_value': 0.05, 'old_value': 0.01}, \"root['rnet']['memory']['edge_skip']\": {'new_value': 0.05, 'old_value': 0.01}}}\n"
     ]
    }
   ],
   "source": [
    "import yaml\n",
    "from deepdiff import DeepDiff\n",
    "\n",
    "def yaml_as_dict(my_file):\n",
    "    my_dict = {}\n",
    "    with open(my_file, 'r') as fp:\n",
    "        docs = yaml.safe_load_all(fp)\n",
    "        for doc in docs:\n",
    "            for key, value in doc.items():\n",
    "                my_dict[key] = value\n",
    "    return my_dict\n",
    "\n",
    "if __name__ == '__main__':\n",
    "    yaml_file1 = \"/private/home/linamezghani/code/offline-gcrl/outputs/2022-05-30/05-15-12/.hydra/config.yaml\"\n",
    "    yaml_file2 = cfg_path1\n",
    "    a = yaml_as_dict(yaml_file1)\n",
    "    b = yaml_as_dict(yaml_file2)\n",
    "    ddiff = DeepDiff(a, b, ignore_order=True)\n",
    "    print(ddiff)"
   ]
  },
  {
   "cell_type": "code",
   "execution_count": 87,
   "id": "restricted-grain",
   "metadata": {},
   "outputs": [
    {
     "name": "stdout",
     "output_type": "stream",
     "text": [
      "type_changes\n",
      "root['main']['load_from_dir']\n",
      "dictionary_item_added\n",
      "root['main']['edge_transitions']\n",
      "root['exploration_buffer']['algo']\n",
      "root['replay_buffer']['algo']\n",
      "root['replay_buffer']['neg_action']\n",
      "root['replay_buffer']['neg_goal']\n",
      "root['replay_buffer']['cut_traj']\n",
      "dictionary_item_removed\n",
      "root['rnet']['memory']['skip_traj']\n",
      "values_changed\n",
      "root['main']['suffix']\n",
      "root['main']['seed']\n",
      "root['main']['subgoal_transitions']\n",
      "root['plot']['type']\n",
      "root['replay_buffer']['capacity']\n",
      "root['replay_buffer']['reward_scaling']\n",
      "root['replay_buffer']['num_procs']\n",
      "root['eval']['interval_epochs']\n",
      "root['sac']['optim']['lr']\n",
      "root['sac']['optim']['batch_size']\n",
      "root['sac']['optim']['gamma']\n",
      "root['sac']['optim']['entropy']['alpha']\n",
      "root['rnet']['memory']['node_skip']\n",
      "root['rnet']['memory']['edge_skip']\n"
     ]
    }
   ],
   "source": [
    "for key in ddiff:\n",
    "    print(key)\n",
    "    for k in ddiff[key]:\n",
    "        print(k)"
   ]
  },
  {
   "cell_type": "code",
   "execution_count": 88,
   "id": "characteristic-cameroon",
   "metadata": {},
   "outputs": [
    {
     "ename": "KeyError",
     "evalue": "\"root['exploration_buffer']['data_dir']\"",
     "output_type": "error",
     "traceback": [
      "\u001b[0;31m---------------------------------------------------------------------------\u001b[0m",
      "\u001b[0;31mKeyError\u001b[0m                                  Traceback (most recent call last)",
      "\u001b[0;32m<ipython-input-88-1b5d4c26f51b>\u001b[0m in \u001b[0;36m<module>\u001b[0;34m\u001b[0m\n\u001b[0;32m----> 1\u001b[0;31m \u001b[0mprint\u001b[0m\u001b[0;34m(\u001b[0m\u001b[0mddiff\u001b[0m\u001b[0;34m[\u001b[0m\u001b[0;34m\"values_changed\"\u001b[0m\u001b[0;34m]\u001b[0m\u001b[0;34m[\u001b[0m\u001b[0;34m\"root['exploration_buffer']['data_dir']\"\u001b[0m\u001b[0;34m]\u001b[0m\u001b[0;34m)\u001b[0m\u001b[0;34m\u001b[0m\u001b[0;34m\u001b[0m\u001b[0m\n\u001b[0m",
      "\u001b[0;31mKeyError\u001b[0m: \"root['exploration_buffer']['data_dir']\""
     ]
    }
   ],
   "source": [
    "print(ddiff[\"values_changed\"][\"root['exploration_buffer']['data_dir']\"])"
   ]
  },
  {
   "cell_type": "code",
   "execution_count": 89,
   "id": "demographic-beach",
   "metadata": {},
   "outputs": [
    {
     "data": {
      "text/plain": [
       "{'name': '${now:%Y%m%d-%H%M%S}_${env.id}_${main.suffix}_s${main.seed}_r${main.run}',\n",
       " 'suffix': 'rs${replay_buffer.reward_scaling}-lr${sac.optim.lr}-bs${sac.optim.batch_size}-updates${sac.optim.num_updates_per_epoch}-alpha${sac.optim.entropy.alpha}-gamma${sac.optim.gamma}-${main.reward}-reward-temp-${main.reward_sigm_temp}-subgoal${main.subgoal_transitions}-asym-fix-seed_cudnn',\n",
       " 'logs_dir': '/checkpoint/${env:USER}/offline-gcrl/logs/${main.name}',\n",
       " 'save_interval': 100,\n",
       " 'reward': 'graph_sig',\n",
       " 'seed': 234,\n",
       " 'run': 0,\n",
       " 'load_from_dir': '/checkpoint/linamezghani/offline-gcrl/trained_rnet/maze_asym-fixed-new/',\n",
       " 'train_until': 'policy',\n",
       " 'reward_sigm_temp': 1.0,\n",
       " 'reward_sigm_weight': 1.0,\n",
       " 'subgoal_transitions': False}"
      ]
     },
     "execution_count": 89,
     "metadata": {},
     "output_type": "execute_result"
    }
   ],
   "source": [
    "a['main']"
   ]
  },
  {
   "cell_type": "code",
   "execution_count": 77,
   "id": "structural-military",
   "metadata": {},
   "outputs": [
    {
     "data": {
      "text/plain": [
       "{'capacity': 100000,\n",
       " 'reward_scaling': 0.1,\n",
       " 'num_procs': 10,\n",
       " 'frame_stack': '${env.frame_stack}'}"
      ]
     },
     "execution_count": 77,
     "metadata": {},
     "output_type": "execute_result"
    }
   ],
   "source": [
    "b['replay_buffer']"
   ]
  },
  {
   "cell_type": "code",
   "execution_count": 91,
   "id": "divided-logic",
   "metadata": {},
   "outputs": [
    {
     "data": {
      "text/plain": [
       "{'model': {'feat_size': 16,\n",
       "  'hidden_size': 64,\n",
       "  'comparator': 'net',\n",
       "  'n_layers': 3,\n",
       "  'comp_n_layers': 2,\n",
       "  'remove_velocity': True,\n",
       "  'dims_to_keep': '${env.obs.no_velocity_size}'},\n",
       " 'dataset': {'thresh': 5,\n",
       "  'neg_thresh': 0,\n",
       "  'in_traj_ratio': 0.5,\n",
       "  'neg_ratio': 0.5,\n",
       "  'symmetric': False,\n",
       "  'valid_ratio': 0.05,\n",
       "  'num_pairs': {'train': 500000, 'val': 100000}},\n",
       " 'train': {'lr': 0.001,\n",
       "  'num_epochs': 20,\n",
       "  'batch_size': 512,\n",
       "  'num_workers': 32,\n",
       "  'weight_decay': 1e-05},\n",
       " 'memory': {'thresh': 0,\n",
       "  'capacity': 1000,\n",
       "  'node_skip': 0.01,\n",
       "  'edge_skip': 0.01,\n",
       "  'NN_batch_size': 1001,\n",
       "  'directed': True,\n",
       "  'skip_traj': 0.01}}"
      ]
     },
     "execution_count": 91,
     "metadata": {},
     "output_type": "execute_result"
    }
   ],
   "source": [
    "a['rnet']"
   ]
  },
  {
   "cell_type": "code",
   "execution_count": 21,
   "id": "broad-arlington",
   "metadata": {},
   "outputs": [
    {
     "data": {
      "text/plain": [
       "{'id': 'walker',\n",
       " 'success_thresh': 0.7,\n",
       " 'max_episode_steps': 1000,\n",
       " 'action_repeat': 2,\n",
       " 'random_start_pos': False,\n",
       " 'obs': {'type': 'vec',\n",
       "  'state_size': 18,\n",
       "  'vec_size': 24,\n",
       "  'rgb_size': 64,\n",
       "  'no_velocity_size': 15},\n",
       " 'action_dim': 6,\n",
       " 'frame_stack': 1,\n",
       " 'obs_type': 'vec'}"
      ]
     },
     "execution_count": 21,
     "metadata": {},
     "output_type": "execute_result"
    }
   ],
   "source": [
    "b['env']"
   ]
  },
  {
   "cell_type": "code",
   "execution_count": 22,
   "id": "minus-sample",
   "metadata": {},
   "outputs": [
    {
     "data": {
      "text/plain": [
       "{'id': 'walker',\n",
       " 'success_thresh': 0.7,\n",
       " 'max_episode_steps': 1000,\n",
       " 'action_repeat': 2,\n",
       " 'random_start_pos': False,\n",
       " 'obs': {'type': 'vec', 'state_size': 18, 'vec_size': 24, 'rgb_size': 64},\n",
       " 'action_dim': 6,\n",
       " 'obs_type': 'vec'}"
      ]
     },
     "execution_count": 22,
     "metadata": {},
     "output_type": "execute_result"
    }
   ],
   "source": [
    "a['env']"
   ]
  },
  {
   "cell_type": "code",
   "execution_count": 90,
   "id": "bound-boating",
   "metadata": {},
   "outputs": [
    {
     "name": "stdout",
     "output_type": "stream",
     "text": [
      "model.pth\r\n"
     ]
    }
   ],
   "source": [
    "ls /checkpoint/linamezghani/offline-gcrl/trained_rnet/maze_asym-fixed-new/"
   ]
  },
  {
   "cell_type": "code",
   "execution_count": null,
   "id": "mobile-eugene",
   "metadata": {},
   "outputs": [],
   "source": []
  }
 ],
 "metadata": {
  "kernelspec": {
   "display_name": "polybeast",
   "language": "python",
   "name": "polybeast"
  },
  "language_info": {
   "codemirror_mode": {
    "name": "ipython",
    "version": 3
   },
   "file_extension": ".py",
   "mimetype": "text/x-python",
   "name": "python",
   "nbconvert_exporter": "python",
   "pygments_lexer": "ipython3",
   "version": "3.7.4"
  }
 },
 "nbformat": 4,
 "nbformat_minor": 5
}
