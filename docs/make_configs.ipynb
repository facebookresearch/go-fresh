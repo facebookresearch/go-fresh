{
 "cells": [
  {
   "cell_type": "code",
   "execution_count": 1,
   "id": "suited-distribution",
   "metadata": {},
   "outputs": [],
   "source": [
    "from pathlib import Path\n",
    "\n",
    "from omegaconf import OmegaConf"
   ]
  },
  {
   "cell_type": "code",
   "execution_count": 23,
   "id": "entitled-south",
   "metadata": {},
   "outputs": [],
   "source": [
    "logs_dir = Path('/checkpoint/linamezghani/offline-gcrl/logs/')\n",
    "\n",
    "exp_name = \"20220915-074847_walker_ours_s345_r0\"\n",
    "\n",
    "tmp_path = logs_dir / \"multirun\" / exp_name\n",
    "cfg_path = tmp_path / list(tmp_path.iterdir())[0] /\".hydra\" / \"config.yaml\"\n",
    "\n",
    "cfg = OmegaConf.load(cfg_path)"
   ]
  },
  {
   "cell_type": "code",
   "execution_count": 24,
   "id": "handmade-airport",
   "metadata": {},
   "outputs": [
    {
     "data": {
      "text/plain": [
       "[PosixPath('/checkpoint/linamezghani/offline-gcrl/logs/multirun/20220613-074149_walker_unsup-final-vec_edge-transTrue-subgoal-transTrue-with-velo_rb1M_s123_r0/2/.hydra/config.yaml'),\n",
       " PosixPath('/checkpoint/linamezghani/offline-gcrl/logs/multirun/20220613-074149_walker_unsup-final-vec_edge-transTrue-subgoal-transTrue-with-velo_rb1M_s123_r0/2/.hydra/hydra.yaml'),\n",
       " PosixPath('/checkpoint/linamezghani/offline-gcrl/logs/multirun/20220613-074149_walker_unsup-final-vec_edge-transTrue-subgoal-transTrue-with-velo_rb1M_s123_r0/2/.hydra/overrides.yaml')]"
      ]
     },
     "execution_count": 24,
     "metadata": {},
     "output_type": "execute_result"
    }
   ],
   "source": [
    "list(cfg_path.parent.iterdir())"
   ]
  },
  {
   "cell_type": "code",
   "execution_count": 25,
   "id": "finnish-soccer",
   "metadata": {},
   "outputs": [],
   "source": [
    "over_path = tmp_path / list(tmp_path.iterdir())[0] /\".hydra\" / \"overrides.yaml\"\n"
   ]
  },
  {
   "cell_type": "code",
   "execution_count": 26,
   "id": "breeding-organization",
   "metadata": {},
   "outputs": [
    {
     "name": "stdout",
     "output_type": "stream",
     "text": [
      "- +exp=walker_rnet_thresh\n",
      "- main.suffix=unsup-final-vec_edge-trans$\\{main.edge_transitions\\}-subgoal-trans$\\{main.subgoal_transitions\\}-with-velo_rb1M\n",
      "- main.load_from_dir=/checkpoint/linamezghani/offline-gcrl/trained_rnet/walker_memonly_thresh2_neg0_skip0.05_new-graph\n",
      "- rnet.model.hidden_size=128\n",
      "- rnet.model.comp_n_layers=4\n",
      "- rnet.model.feat_size=128\n",
      "- env.action_repeat=2\n",
      "- main.reward=graph_sig\n",
      "- replay_buffer.capacity=1000000\n",
      "- replay_buffer.num_procs=20\n",
      "- main.edge_transitions=True\n",
      "- sac.policy.head.remove_velocity=False\n",
      "- plot.type=wandb\n",
      "- main.seed=123\n",
      "- train.goal_strat=rb\n",
      "- main.subgoal_transitions=True\n",
      "- main.reward_sigm_temp=1\n",
      "- eval.interval_epochs=20\n",
      "- sac.optim.batch_size=2048\n",
      "- replay_buffer.reward_scaling=0.5\n",
      "- sac.optim.lr=0.0003\n",
      "- sac.optim.entropy.alpha=0.01\n",
      "- sac.optim.gamma=0.95\n",
      "- optim.num_epochs=5001\n",
      "\n"
     ]
    }
   ],
   "source": [
    "print(over_path.read_text())"
   ]
  },
  {
   "cell_type": "code",
   "execution_count": 27,
   "id": "streaming-chick",
   "metadata": {},
   "outputs": [
    {
     "name": "stdout",
     "output_type": "stream",
     "text": [
      "embs.pth  memory.npy  model.pth\r\n"
     ]
    }
   ],
   "source": [
    "ls /checkpoint/linamezghani/offline-gcrl/trained_rnet/walker_memonly_thresh2_neg0_skip0.05_new-graph"
   ]
  },
  {
   "cell_type": "code",
   "execution_count": null,
   "id": "proper-novel",
   "metadata": {},
   "outputs": [],
   "source": [
    "\"walker_memonly_thresh2_neg0_skip0.05_new-graph\""
   ]
  },
  {
   "cell_type": "code",
   "execution_count": 33,
   "id": "induced-substance",
   "metadata": {},
   "outputs": [
    {
     "name": "stdout",
     "output_type": "stream",
     "text": [
      "{'type_changes': {\"root['main']['load_from_dir']\": {'old_type': <class 'str'>, 'new_type': <class 'NoneType'>, 'old_value': '/checkpoint/linamezghani/offline-gcrl/trained_rnet/walker_memonly_thresh2_neg0_skip0.05_new-graph', 'new_value': None}, \"root['main']['reward_sigm_temp']\": {'old_type': <class 'int'>, 'new_type': <class 'float'>, 'old_value': 1, 'new_value': 1.0}}, 'dictionary_item_added': [root['exploration_buffer']['algo'], root['replay_buffer']['algo'], root['replay_buffer']['neg_action'], root['replay_buffer']['neg_goal'], root['replay_buffer']['cut_traj']], 'dictionary_item_removed': [root['rnet']['memory']['skip_traj']], 'values_changed': {\"root['main']['suffix']\": {'new_value': 'ours', 'old_value': 'unsup-final-vec_edge-trans${main.edge_transitions}-subgoal-trans${main.subgoal_transitions}-with-velo_rb1M'}, \"root['main']['seed']\": {'new_value': 345, 'old_value': 123}, \"root['exploration_buffer']['data_dir']\": {'new_value': '/checkpoint/${env:USER}/offline-gcrl/data/${env.id}/${exploration_buffer.algo}/buffer', 'old_value': '/checkpoint/${env:USER}/offline-gcrl/data/walker/proto/buffer'}, \"root['optim']['num_epochs']\": {'new_value': 1001, 'old_value': 5001}, \"root['rnet']['dataset']['thresh']\": {'new_value': 2, 'old_value': 10}, \"root['rnet']['train']['lr']\": {'new_value': 0.0003, 'old_value': 0.001}, \"root['rnet']['train']['num_epochs']\": {'new_value': 100, 'old_value': 10}, \"root['rnet']['memory']['capacity']\": {'new_value': 10000, 'old_value': 1000}, \"root['rnet']['memory']['node_skip']\": {'new_value': 0.05, 'old_value': 0.01}, \"root['rnet']['memory']['edge_skip']\": {'new_value': 0.05, 'old_value': 0.01}}}\n"
     ]
    }
   ],
   "source": [
    "import yaml\n",
    "from deepdiff import DeepDiff\n",
    "\n",
    "def yaml_as_dict(my_file):\n",
    "    my_dict = {}\n",
    "    with open(my_file, 'r') as fp:\n",
    "        docs = yaml.safe_load_all(fp)\n",
    "        for doc in docs:\n",
    "            for key, value in doc.items():\n",
    "                my_dict[key] = value\n",
    "    return my_dict\n",
    "\n",
    "if __name__ == '__main__':\n",
    "    yaml_file1 = \"/checkpoint/linamezghani/offline-gcrl/logs/multirun/20220613-074149_walker_unsup-final-vec_edge-transTrue-subgoal-transTrue-with-velo_rb1M_s123_r0/2/.hydra/config.yaml\"\n",
    "    yaml_file2 = cfg_path\n",
    "    a = yaml_as_dict(yaml_file1)\n",
    "    b = yaml_as_dict(yaml_file2)\n",
    "    ddiff = DeepDiff(a, b, ignore_order=True)\n",
    "    print(ddiff)"
   ]
  },
  {
   "cell_type": "code",
   "execution_count": 34,
   "id": "restricted-grain",
   "metadata": {},
   "outputs": [
    {
     "name": "stdout",
     "output_type": "stream",
     "text": [
      "type_changes\n",
      "root['main']['load_from_dir']\n",
      "root['main']['reward_sigm_temp']\n",
      "dictionary_item_added\n",
      "root['exploration_buffer']['algo']\n",
      "root['replay_buffer']['algo']\n",
      "root['replay_buffer']['neg_action']\n",
      "root['replay_buffer']['neg_goal']\n",
      "root['replay_buffer']['cut_traj']\n",
      "dictionary_item_removed\n",
      "root['rnet']['memory']['skip_traj']\n",
      "values_changed\n",
      "root['main']['suffix']\n",
      "root['main']['seed']\n",
      "root['exploration_buffer']['data_dir']\n",
      "root['optim']['num_epochs']\n",
      "root['rnet']['dataset']['thresh']\n",
      "root['rnet']['train']['lr']\n",
      "root['rnet']['train']['num_epochs']\n",
      "root['rnet']['memory']['capacity']\n",
      "root['rnet']['memory']['node_skip']\n",
      "root['rnet']['memory']['edge_skip']\n"
     ]
    }
   ],
   "source": [
    "for key in ddiff:\n",
    "    print(key)\n",
    "    for k in ddiff[key]:\n",
    "        print(k)"
   ]
  },
  {
   "cell_type": "code",
   "execution_count": 35,
   "id": "characteristic-cameroon",
   "metadata": {},
   "outputs": [
    {
     "name": "stdout",
     "output_type": "stream",
     "text": [
      "{'new_value': '/checkpoint/${env:USER}/offline-gcrl/data/${env.id}/${exploration_buffer.algo}/buffer', 'old_value': '/checkpoint/${env:USER}/offline-gcrl/data/walker/proto/buffer'}\n"
     ]
    }
   ],
   "source": [
    "print(ddiff[\"values_changed\"][\"root['exploration_buffer']['data_dir']\"])"
   ]
  },
  {
   "cell_type": "code",
   "execution_count": 45,
   "id": "demographic-beach",
   "metadata": {},
   "outputs": [
    {
     "data": {
      "text/plain": [
       "{'num_epochs': 5001}"
      ]
     },
     "execution_count": 45,
     "metadata": {},
     "output_type": "execute_result"
    }
   ],
   "source": [
    "a['optim']"
   ]
  },
  {
   "cell_type": "code",
   "execution_count": 44,
   "id": "structural-military",
   "metadata": {},
   "outputs": [
    {
     "data": {
      "text/plain": [
       "{'num_epochs': 1001}"
      ]
     },
     "execution_count": 44,
     "metadata": {},
     "output_type": "execute_result"
    }
   ],
   "source": [
    "b['optim']"
   ]
  },
  {
   "cell_type": "code",
   "execution_count": 31,
   "id": "divided-logic",
   "metadata": {},
   "outputs": [
    {
     "data": {
      "text/plain": [
       "{'model': {'feat_size': 128,\n",
       "  'hidden_size': 128,\n",
       "  'comparator': 'net',\n",
       "  'n_layers': 3,\n",
       "  'comp_n_layers': 4,\n",
       "  'remove_velocity': True,\n",
       "  'dims_to_keep': '${env.obs.no_velocity_size}'},\n",
       " 'dataset': {'thresh': 2,\n",
       "  'neg_thresh': 0,\n",
       "  'in_traj_ratio': 0.5,\n",
       "  'neg_ratio': 0.5,\n",
       "  'symmetric': False,\n",
       "  'valid_ratio': 0.05,\n",
       "  'num_pairs': {'train': 500000, 'val': 100000}},\n",
       " 'train': {'lr': 0.0003,\n",
       "  'num_epochs': 100,\n",
       "  'batch_size': 512,\n",
       "  'num_workers': 32,\n",
       "  'weight_decay': 1e-05},\n",
       " 'memory': {'thresh': 0,\n",
       "  'capacity': 10000,\n",
       "  'node_skip': 0.05,\n",
       "  'edge_skip': 0.05,\n",
       "  'NN_batch_size': 1001,\n",
       "  'directed': True}}"
      ]
     },
     "execution_count": 31,
     "metadata": {},
     "output_type": "execute_result"
    }
   ],
   "source": [
    "b['rnet']"
   ]
  },
  {
   "cell_type": "code",
   "execution_count": 21,
   "id": "broad-arlington",
   "metadata": {},
   "outputs": [
    {
     "data": {
      "text/plain": [
       "{'id': 'walker',\n",
       " 'success_thresh': 0.7,\n",
       " 'max_episode_steps': 1000,\n",
       " 'action_repeat': 2,\n",
       " 'random_start_pos': False,\n",
       " 'obs': {'type': 'vec',\n",
       "  'state_size': 18,\n",
       "  'vec_size': 24,\n",
       "  'rgb_size': 64,\n",
       "  'no_velocity_size': 15},\n",
       " 'action_dim': 6,\n",
       " 'frame_stack': 1,\n",
       " 'obs_type': 'vec'}"
      ]
     },
     "execution_count": 21,
     "metadata": {},
     "output_type": "execute_result"
    }
   ],
   "source": [
    "b['env']"
   ]
  },
  {
   "cell_type": "code",
   "execution_count": 22,
   "id": "minus-sample",
   "metadata": {},
   "outputs": [
    {
     "data": {
      "text/plain": [
       "{'id': 'walker',\n",
       " 'success_thresh': 0.7,\n",
       " 'max_episode_steps': 1000,\n",
       " 'action_repeat': 2,\n",
       " 'random_start_pos': False,\n",
       " 'obs': {'type': 'vec', 'state_size': 18, 'vec_size': 24, 'rgb_size': 64},\n",
       " 'action_dim': 6,\n",
       " 'obs_type': 'vec'}"
      ]
     },
     "execution_count": 22,
     "metadata": {},
     "output_type": "execute_result"
    }
   ],
   "source": [
    "a['env']"
   ]
  },
  {
   "cell_type": "code",
   "execution_count": null,
   "id": "bound-boating",
   "metadata": {},
   "outputs": [],
   "source": []
  }
 ],
 "metadata": {
  "kernelspec": {
   "display_name": "polybeast",
   "language": "python",
   "name": "polybeast"
  },
  "language_info": {
   "codemirror_mode": {
    "name": "ipython",
    "version": 3
   },
   "file_extension": ".py",
   "mimetype": "text/x-python",
   "name": "python",
   "nbconvert_exporter": "python",
   "pygments_lexer": "ipython3",
   "version": "3.7.4"
  }
 },
 "nbformat": 4,
 "nbformat_minor": 5
}
