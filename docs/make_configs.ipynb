{
 "cells": [
  {
   "cell_type": "code",
   "execution_count": 1,
   "id": "published-samba",
   "metadata": {},
   "outputs": [],
   "source": [
    "from pathlib import Path\n",
    "\n",
    "from omegaconf import OmegaConf"
   ]
  },
  {
   "cell_type": "code",
   "execution_count": 10,
   "id": "stopped-israeli",
   "metadata": {},
   "outputs": [],
   "source": [
    "logs_dir = Path('/checkpoint/linamezghani/offline-gcrl/logs/')\n",
    "\n",
    "exp_name = \"20220915-030047_walker_walker_ours_s234_r0\"\n",
    "\n",
    "tmp_path = logs_dir / \"multirun\" / exp_name\n",
    "cfg_path = tmp_path / list(tmp_path.iterdir())[0] /\".hydra\" / \"config.yaml\"\n",
    "\n",
    "cfg = OmegaConf.load(cfg_path)"
   ]
  },
  {
   "cell_type": "code",
   "execution_count": 24,
   "id": "french-surname",
   "metadata": {},
   "outputs": [
    {
     "data": {
      "text/plain": [
       "[PosixPath('/checkpoint/linamezghani/offline-gcrl/logs/multirun/20220613-074149_walker_unsup-final-vec_edge-transTrue-subgoal-transTrue-with-velo_rb1M_s123_r0/2/.hydra/config.yaml'),\n",
       " PosixPath('/checkpoint/linamezghani/offline-gcrl/logs/multirun/20220613-074149_walker_unsup-final-vec_edge-transTrue-subgoal-transTrue-with-velo_rb1M_s123_r0/2/.hydra/hydra.yaml'),\n",
       " PosixPath('/checkpoint/linamezghani/offline-gcrl/logs/multirun/20220613-074149_walker_unsup-final-vec_edge-transTrue-subgoal-transTrue-with-velo_rb1M_s123_r0/2/.hydra/overrides.yaml')]"
      ]
     },
     "execution_count": 24,
     "metadata": {},
     "output_type": "execute_result"
    }
   ],
   "source": [
    "list(cfg_path.parent.iterdir())"
   ]
  },
  {
   "cell_type": "code",
   "execution_count": 25,
   "id": "excessive-dialogue",
   "metadata": {},
   "outputs": [],
   "source": [
    "over_path = tmp_path / list(tmp_path.iterdir())[0] /\".hydra\" / \"overrides.yaml\"\n"
   ]
  },
  {
   "cell_type": "code",
   "execution_count": 26,
   "id": "distributed-abortion",
   "metadata": {},
   "outputs": [
    {
     "name": "stdout",
     "output_type": "stream",
     "text": [
      "- +exp=walker_rnet_thresh\n",
      "- main.suffix=unsup-final-vec_edge-trans$\\{main.edge_transitions\\}-subgoal-trans$\\{main.subgoal_transitions\\}-with-velo_rb1M\n",
      "- main.load_from_dir=/checkpoint/linamezghani/offline-gcrl/trained_rnet/walker_memonly_thresh2_neg0_skip0.05_new-graph\n",
      "- rnet.model.hidden_size=128\n",
      "- rnet.model.comp_n_layers=4\n",
      "- rnet.model.feat_size=128\n",
      "- env.action_repeat=2\n",
      "- main.reward=graph_sig\n",
      "- replay_buffer.capacity=1000000\n",
      "- replay_buffer.num_procs=20\n",
      "- main.edge_transitions=True\n",
      "- sac.policy.head.remove_velocity=False\n",
      "- plot.type=wandb\n",
      "- main.seed=123\n",
      "- train.goal_strat=rb\n",
      "- main.subgoal_transitions=True\n",
      "- main.reward_sigm_temp=1\n",
      "- eval.interval_epochs=20\n",
      "- sac.optim.batch_size=2048\n",
      "- replay_buffer.reward_scaling=0.5\n",
      "- sac.optim.lr=0.0003\n",
      "- sac.optim.entropy.alpha=0.01\n",
      "- sac.optim.gamma=0.95\n",
      "- optim.num_epochs=5001\n",
      "\n"
     ]
    }
   ],
   "source": [
    "print(over_path.read_text())"
   ]
  },
  {
   "cell_type": "code",
   "execution_count": 27,
   "id": "external-memorabilia",
   "metadata": {},
   "outputs": [
    {
     "name": "stdout",
     "output_type": "stream",
     "text": [
      "embs.pth  memory.npy  model.pth\r\n"
     ]
    }
   ],
   "source": [
    "ls /checkpoint/linamezghani/offline-gcrl/trained_rnet/walker_memonly_thresh2_neg0_skip0.05_new-graph"
   ]
  },
  {
   "cell_type": "code",
   "execution_count": null,
   "id": "cooked-palestine",
   "metadata": {},
   "outputs": [],
   "source": [
    "\"walker_memonly_thresh2_neg0_skip0.05_new-graph\""
   ]
  },
  {
   "cell_type": "code",
   "execution_count": 11,
   "id": "bridal-circulation",
   "metadata": {},
   "outputs": [
    {
     "name": "stdout",
     "output_type": "stream",
     "text": [
      "{'type_changes': {\"root['main']['run']\": {'old_type': <class 'NoneType'>, 'new_type': <class 'int'>, 'old_value': None, 'new_value': 0}, \"root['rnet']['model']['dims_to_keep']\": {'old_type': <class 'int'>, 'new_type': <class 'str'>, 'old_value': 15, 'new_value': '${env.obs.no_velocity_size}'}}, 'dictionary_item_added': [root['plot'], root['main']['seed'], root['main']['reward_sigm_temp'], root['main']['reward_sigm_weight'], root['main']['subgoal_transitions'], root['main']['edge_transitions'], root['env']['frame_stack'], root['env']['obs']['no_velocity_size'], root['exploration_buffer']['algo'], root['replay_buffer']['num_procs'], root['replay_buffer']['frame_stack'], root['replay_buffer']['algo'], root['replay_buffer']['neg_action'], root['replay_buffer']['neg_goal'], root['replay_buffer']['cut_traj'], root['eval']['interval_epochs'], root['sac']['policy']['frame_stack'], root['sac']['policy']['head']['remove_velocity'], root['sac']['policy']['head']['dims_to_keep'], root['rnet']['dataset']['neg_ratio'], root['rnet']['memory']['node_skip'], root['rnet']['memory']['edge_skip']], 'dictionary_item_removed': [root['rnet']['memory']['skip'], root['rnet']['memory']['skip_traj']], 'values_changed': {\"root['main']['name']\": {'new_value': '${now:%Y%m%d-%H%M%S}_${env.id}_${main.suffix}_s${main.seed}_r${main.run}', 'old_value': '${now:%Y%m%d-%H%M%S}_${env.id}_${main.suffix}'}, \"root['main']['suffix']\": {'new_value': 'walker_ours', 'old_value': 'memonly_thresh${rnet.dataset.thresh}_neg${rnet.dataset.neg_thresh}_skip${rnet.memory.skip_traj}'}, \"root['main']['reward']\": {'new_value': 'graph_sig', 'old_value': 'graph'}, \"root['main']['train_until']\": {'new_value': 'policy', 'old_value': 'NN'}, \"root['exploration_buffer']['data_dir']\": {'new_value': '/checkpoint/${env:USER}/offline-gcrl/data/${env.id}/${exploration_buffer.algo}/buffer', 'old_value': '/checkpoint/${env:USER}/offline-gcrl/data/walker/proto/buffer'}, \"root['replay_buffer']['capacity']\": {'new_value': 1000000, 'old_value': 100000}, \"root['replay_buffer']['reward_scaling']\": {'new_value': 0.5, 'old_value': 0.01}, \"root['eval']['num_episodes']\": {'new_value': 500, 'old_value': 100}, \"root['sac']['optim']['lr']\": {'new_value': 0.0003, 'old_value': 0.001}, \"root['sac']['optim']['batch_size']\": {'new_value': 2048, 'old_value': 1024}, \"root['sac']['optim']['gamma']\": {'new_value': 0.95, 'old_value': 0.99}}}\n"
     ]
    }
   ],
   "source": [
    "import yaml\n",
    "from deepdiff import DeepDiff\n",
    "\n",
    "def yaml_as_dict(my_file):\n",
    "    my_dict = {}\n",
    "    with open(my_file, 'r') as fp:\n",
    "        docs = yaml.safe_load_all(fp)\n",
    "        for doc in docs:\n",
    "            for key, value in doc.items():\n",
    "                my_dict[key] = value\n",
    "    return my_dict\n",
    "\n",
    "if __name__ == '__main__':\n",
    "    yaml_file1 = \"/checkpoint/sainbar/offline-gcrl/logs/multirun/20220509-173335_walker_memonly_thresh2_neg0_skip0.05/0/.hydra/config.yaml\"\n",
    "    yaml_file2 = cfg_path\n",
    "    a = yaml_as_dict(yaml_file1)\n",
    "    b = yaml_as_dict(yaml_file2)\n",
    "    ddiff = DeepDiff(a, b, ignore_order=True)\n",
    "    print(ddiff)"
   ]
  },
  {
   "cell_type": "code",
   "execution_count": 12,
   "id": "artificial-marble",
   "metadata": {},
   "outputs": [
    {
     "name": "stdout",
     "output_type": "stream",
     "text": [
      "type_changes\n",
      "root['main']['run']\n",
      "root['rnet']['model']['dims_to_keep']\n",
      "dictionary_item_added\n",
      "root['plot']\n",
      "root['main']['seed']\n",
      "root['main']['reward_sigm_temp']\n",
      "root['main']['reward_sigm_weight']\n",
      "root['main']['subgoal_transitions']\n",
      "root['main']['edge_transitions']\n",
      "root['env']['frame_stack']\n",
      "root['env']['obs']['no_velocity_size']\n",
      "root['exploration_buffer']['algo']\n",
      "root['replay_buffer']['num_procs']\n",
      "root['replay_buffer']['frame_stack']\n",
      "root['replay_buffer']['algo']\n",
      "root['replay_buffer']['neg_action']\n",
      "root['replay_buffer']['neg_goal']\n",
      "root['replay_buffer']['cut_traj']\n",
      "root['eval']['interval_epochs']\n",
      "root['sac']['policy']['frame_stack']\n",
      "root['sac']['policy']['head']['remove_velocity']\n",
      "root['sac']['policy']['head']['dims_to_keep']\n",
      "root['rnet']['dataset']['neg_ratio']\n",
      "root['rnet']['memory']['node_skip']\n",
      "root['rnet']['memory']['edge_skip']\n",
      "dictionary_item_removed\n",
      "root['rnet']['memory']['skip']\n",
      "root['rnet']['memory']['skip_traj']\n",
      "values_changed\n",
      "root['main']['name']\n",
      "root['main']['suffix']\n",
      "root['main']['reward']\n",
      "root['main']['train_until']\n",
      "root['exploration_buffer']['data_dir']\n",
      "root['replay_buffer']['capacity']\n",
      "root['replay_buffer']['reward_scaling']\n",
      "root['eval']['num_episodes']\n",
      "root['sac']['optim']['lr']\n",
      "root['sac']['optim']['batch_size']\n",
      "root['sac']['optim']['gamma']\n"
     ]
    }
   ],
   "source": [
    "for key in ddiff:\n",
    "    print(key)\n",
    "    for k in ddiff[key]:\n",
    "        print(k)"
   ]
  },
  {
   "cell_type": "code",
   "execution_count": 13,
   "id": "mental-sailing",
   "metadata": {},
   "outputs": [
    {
     "name": "stdout",
     "output_type": "stream",
     "text": [
      "{'new_value': '/checkpoint/${env:USER}/offline-gcrl/data/${env.id}/${exploration_buffer.algo}/buffer', 'old_value': '/checkpoint/${env:USER}/offline-gcrl/data/walker/proto/buffer'}\n"
     ]
    }
   ],
   "source": [
    "print(ddiff[\"values_changed\"][\"root['exploration_buffer']['data_dir']\"])"
   ]
  },
  {
   "cell_type": "code",
   "execution_count": 17,
   "id": "loose-digest",
   "metadata": {},
   "outputs": [
    {
     "data": {
      "text/plain": [
       "{'name': '${now:%Y%m%d-%H%M%S}_${env.id}_${main.suffix}_s${main.seed}_r${main.run}',\n",
       " 'suffix': 'walker_ours',\n",
       " 'logs_dir': '/checkpoint/${env:USER}/offline-gcrl/logs/${main.name}',\n",
       " 'save_interval': 100,\n",
       " 'reward': 'graph_sig',\n",
       " 'seed': 234,\n",
       " 'run': 0,\n",
       " 'load_from_dir': None,\n",
       " 'train_until': 'policy',\n",
       " 'reward_sigm_temp': 1.0,\n",
       " 'reward_sigm_weight': 1.0,\n",
       " 'subgoal_transitions': True,\n",
       " 'edge_transitions': True}"
      ]
     },
     "execution_count": 17,
     "metadata": {},
     "output_type": "execute_result"
    }
   ],
   "source": [
    "b['main']"
   ]
  },
  {
   "cell_type": "code",
   "execution_count": 19,
   "id": "through-deposit",
   "metadata": {},
   "outputs": [
    {
     "data": {
      "text/plain": [
       "{'model': {'feat_size': 128,\n",
       "  'hidden_size': 128,\n",
       "  'comparator': 'net',\n",
       "  'n_layers': 3,\n",
       "  'comp_n_layers': 4,\n",
       "  'remove_velocity': True,\n",
       "  'dims_to_keep': 15},\n",
       " 'dataset': {'thresh': 2,\n",
       "  'neg_thresh': 0,\n",
       "  'in_traj_ratio': 0.5,\n",
       "  'symmetric': False,\n",
       "  'valid_ratio': 0.05,\n",
       "  'num_pairs': {'train': 500000, 'val': 100000}},\n",
       " 'train': {'lr': 0.0003,\n",
       "  'num_epochs': 100,\n",
       "  'batch_size': 512,\n",
       "  'num_workers': 32,\n",
       "  'weight_decay': 1e-05},\n",
       " 'memory': {'thresh': 0,\n",
       "  'capacity': 10000,\n",
       "  'skip': 1,\n",
       "  'NN_batch_size': 1001,\n",
       "  'skip_traj': 0.05,\n",
       "  'directed': True}}"
      ]
     },
     "execution_count": 19,
     "metadata": {},
     "output_type": "execute_result"
    }
   ],
   "source": [
    "a['rnet']"
   ]
  },
  {
   "cell_type": "code",
   "execution_count": 20,
   "id": "computational-diploma",
   "metadata": {},
   "outputs": [
    {
     "data": {
      "text/plain": [
       "{'model': {'feat_size': 128,\n",
       "  'hidden_size': 128,\n",
       "  'comparator': 'net',\n",
       "  'n_layers': 3,\n",
       "  'comp_n_layers': 4,\n",
       "  'remove_velocity': True,\n",
       "  'dims_to_keep': '${env.obs.no_velocity_size}'},\n",
       " 'dataset': {'thresh': 2,\n",
       "  'neg_thresh': 0,\n",
       "  'in_traj_ratio': 0.5,\n",
       "  'neg_ratio': 0.5,\n",
       "  'symmetric': False,\n",
       "  'valid_ratio': 0.05,\n",
       "  'num_pairs': {'train': 500000, 'val': 100000}},\n",
       " 'train': {'lr': 0.0003,\n",
       "  'num_epochs': 100,\n",
       "  'batch_size': 512,\n",
       "  'num_workers': 32,\n",
       "  'weight_decay': 1e-05},\n",
       " 'memory': {'thresh': 0,\n",
       "  'capacity': 10000,\n",
       "  'node_skip': 0.05,\n",
       "  'edge_skip': 0.05,\n",
       "  'NN_batch_size': 1001,\n",
       "  'directed': True}}"
      ]
     },
     "execution_count": 20,
     "metadata": {},
     "output_type": "execute_result"
    }
   ],
   "source": [
    "b['rnet']"
   ]
  },
  {
   "cell_type": "code",
   "execution_count": 21,
   "id": "defensive-venture",
   "metadata": {},
   "outputs": [
    {
     "data": {
      "text/plain": [
       "{'id': 'walker',\n",
       " 'success_thresh': 0.7,\n",
       " 'max_episode_steps': 1000,\n",
       " 'action_repeat': 2,\n",
       " 'random_start_pos': False,\n",
       " 'obs': {'type': 'vec',\n",
       "  'state_size': 18,\n",
       "  'vec_size': 24,\n",
       "  'rgb_size': 64,\n",
       "  'no_velocity_size': 15},\n",
       " 'action_dim': 6,\n",
       " 'frame_stack': 1,\n",
       " 'obs_type': 'vec'}"
      ]
     },
     "execution_count": 21,
     "metadata": {},
     "output_type": "execute_result"
    }
   ],
   "source": [
    "b['env']"
   ]
  },
  {
   "cell_type": "code",
   "execution_count": 22,
   "id": "tamil-digit",
   "metadata": {},
   "outputs": [
    {
     "data": {
      "text/plain": [
       "{'id': 'walker',\n",
       " 'success_thresh': 0.7,\n",
       " 'max_episode_steps': 1000,\n",
       " 'action_repeat': 2,\n",
       " 'random_start_pos': False,\n",
       " 'obs': {'type': 'vec', 'state_size': 18, 'vec_size': 24, 'rgb_size': 64},\n",
       " 'action_dim': 6,\n",
       " 'obs_type': 'vec'}"
      ]
     },
     "execution_count": 22,
     "metadata": {},
     "output_type": "execute_result"
    }
   ],
   "source": [
    "a['env']"
   ]
  },
  {
   "cell_type": "code",
   "execution_count": null,
   "id": "understood-sherman",
   "metadata": {},
   "outputs": [],
   "source": []
  }
 ],
 "metadata": {
  "kernelspec": {
   "display_name": "polybeast",
   "language": "python",
   "name": "polybeast"
  },
  "language_info": {
   "codemirror_mode": {
    "name": "ipython",
    "version": 3
   },
   "file_extension": ".py",
   "mimetype": "text/x-python",
   "name": "python",
   "nbconvert_exporter": "python",
   "pygments_lexer": "ipython3",
   "version": "3.7.4"
  }
 },
 "nbformat": 4,
 "nbformat_minor": 5
}
