{
 "cells": [
  {
   "cell_type": "code",
   "execution_count": 1,
   "id": "suited-distribution",
   "metadata": {},
   "outputs": [],
   "source": [
    "from pathlib import Path\n",
    "\n",
    "from omegaconf import OmegaConf"
   ]
  },
  {
   "cell_type": "code",
   "execution_count": 69,
   "id": "entitled-south",
   "metadata": {},
   "outputs": [],
   "source": [
    "logs_dir = Path('/checkpoint/linamezghani/offline-gcrl/logs/')\n",
    "\n",
    "exp_name = \"20220920-081223_maze_U4rooms_ours_s123_r0\"\n",
    "\n",
    "tmp_path = logs_dir / \"multirun\" / exp_name\n",
    "cfg_path1 = tmp_path / list(tmp_path.iterdir())[0] /\".hydra\" / \"config.yaml\"\n",
    "\n",
    "cfg = OmegaConf.load(cfg_path)"
   ]
  },
  {
   "cell_type": "code",
   "execution_count": 73,
   "id": "steady-atlanta",
   "metadata": {},
   "outputs": [],
   "source": [
    "logs_dir = Path('/checkpoint/linamezghani/offline-gcrl/logs/')\n",
    "\n",
    "exp_name = \"20220613-100554_maze_U4rooms_rs0.1-lr0.0003-bs2048-updates1000-alpha0.05-gamma0.9-graph_sig-reward-temp-1-subgoalTrue-asym-fix-seed_cudnn_s123_r0\"\n",
    "\n",
    "tmp_path = logs_dir / \"multirun\" / exp_name\n",
    "cfg_path2 = tmp_path / list(tmp_path.iterdir())[0] /\".hydra\" / \"config.yaml\"\n",
    "\n",
    "cfg = OmegaConf.load(cfg_path)"
   ]
  },
  {
   "cell_type": "code",
   "execution_count": 52,
   "id": "south-mining",
   "metadata": {},
   "outputs": [
    {
     "name": "stdout",
     "output_type": "stream",
     "text": [
      "ls: cannot access '/checkpoint/linamezghani/offline-gcrl/logs/multirun/20220530-051512_maze_U4rooms_rs0.01-lr0.001-bs1024-updates1000-alpha0.01-gamma0.99-graph_sig-reward-temp-1.0-subgoalFalse-asym-fix-seed_cudnn_s234_r0': No such file or directory\r\n"
     ]
    }
   ],
   "source": [
    "!ls /checkpoint/linamezghani/offline-gcrl/logs/multirun/20220530-051512_maze_U4rooms_rs0.01-lr0.001-bs1024-updates1000-alpha0.01-gamma0.99-graph_sig-reward-temp-1.0-subgoalFalse-asym-fix-seed_cudnn_s234_r0"
   ]
  },
  {
   "cell_type": "code",
   "execution_count": 53,
   "id": "previous-moses",
   "metadata": {},
   "outputs": [
    {
     "name": "stdout",
     "output_type": "stream",
     "text": [
      "ls: cannot access 'outputs/': No such file or directory\r\n"
     ]
    }
   ],
   "source": [
    "!ls outputs/"
   ]
  },
  {
   "cell_type": "code",
   "execution_count": 24,
   "id": "handmade-airport",
   "metadata": {},
   "outputs": [
    {
     "data": {
      "text/plain": [
       "[PosixPath('/checkpoint/linamezghani/offline-gcrl/logs/multirun/20220613-074149_walker_unsup-final-vec_edge-transTrue-subgoal-transTrue-with-velo_rb1M_s123_r0/2/.hydra/config.yaml'),\n",
       " PosixPath('/checkpoint/linamezghani/offline-gcrl/logs/multirun/20220613-074149_walker_unsup-final-vec_edge-transTrue-subgoal-transTrue-with-velo_rb1M_s123_r0/2/.hydra/hydra.yaml'),\n",
       " PosixPath('/checkpoint/linamezghani/offline-gcrl/logs/multirun/20220613-074149_walker_unsup-final-vec_edge-transTrue-subgoal-transTrue-with-velo_rb1M_s123_r0/2/.hydra/overrides.yaml')]"
      ]
     },
     "execution_count": 24,
     "metadata": {},
     "output_type": "execute_result"
    }
   ],
   "source": [
    "list(cfg_path.parent.iterdir())"
   ]
  },
  {
   "cell_type": "code",
   "execution_count": 25,
   "id": "finnish-soccer",
   "metadata": {},
   "outputs": [],
   "source": [
    "over_path = tmp_path / list(tmp_path.iterdir())[0] /\".hydra\" / \"overrides.yaml\"\n"
   ]
  },
  {
   "cell_type": "code",
   "execution_count": 26,
   "id": "breeding-organization",
   "metadata": {},
   "outputs": [
    {
     "name": "stdout",
     "output_type": "stream",
     "text": [
      "- +exp=walker_rnet_thresh\n",
      "- main.suffix=unsup-final-vec_edge-trans$\\{main.edge_transitions\\}-subgoal-trans$\\{main.subgoal_transitions\\}-with-velo_rb1M\n",
      "- main.load_from_dir=/checkpoint/linamezghani/offline-gcrl/trained_rnet/walker_memonly_thresh2_neg0_skip0.05_new-graph\n",
      "- rnet.model.hidden_size=128\n",
      "- rnet.model.comp_n_layers=4\n",
      "- rnet.model.feat_size=128\n",
      "- env.action_repeat=2\n",
      "- main.reward=graph_sig\n",
      "- replay_buffer.capacity=1000000\n",
      "- replay_buffer.num_procs=20\n",
      "- main.edge_transitions=True\n",
      "- sac.policy.head.remove_velocity=False\n",
      "- plot.type=wandb\n",
      "- main.seed=123\n",
      "- train.goal_strat=rb\n",
      "- main.subgoal_transitions=True\n",
      "- main.reward_sigm_temp=1\n",
      "- eval.interval_epochs=20\n",
      "- sac.optim.batch_size=2048\n",
      "- replay_buffer.reward_scaling=0.5\n",
      "- sac.optim.lr=0.0003\n",
      "- sac.optim.entropy.alpha=0.01\n",
      "- sac.optim.gamma=0.95\n",
      "- optim.num_epochs=5001\n",
      "\n"
     ]
    }
   ],
   "source": [
    "print(over_path.read_text())"
   ]
  },
  {
   "cell_type": "code",
   "execution_count": 27,
   "id": "streaming-chick",
   "metadata": {},
   "outputs": [
    {
     "name": "stdout",
     "output_type": "stream",
     "text": [
      "embs.pth  memory.npy  model.pth\r\n"
     ]
    }
   ],
   "source": [
    "ls /checkpoint/linamezghani/offline-gcrl/trained_rnet/walker_memonly_thresh2_neg0_skip0.05_new-graph"
   ]
  },
  {
   "cell_type": "code",
   "execution_count": null,
   "id": "proper-novel",
   "metadata": {},
   "outputs": [],
   "source": [
    "\"walker_memonly_thresh2_neg0_skip0.05_new-graph\""
   ]
  },
  {
   "cell_type": "code",
   "execution_count": 74,
   "id": "induced-substance",
   "metadata": {},
   "outputs": [
    {
     "name": "stdout",
     "output_type": "stream",
     "text": [
      "{'type_changes': {\"root['main']['load_from_dir']\": {'old_type': <class 'NoneType'>, 'new_type': <class 'str'>, 'old_value': None, 'new_value': '/checkpoint/linamezghani/offline-gcrl/logs/20220530-051512_maze_U4rooms_rs0.01-lr0.001-bs1024-updates1000-alpha0.01-gamma0.99-graph_sig-reward-temp-1.0-subgoalFalse-asym-fix-seed_cudnn_s234_r0/'}, \"root['main']['reward_sigm_temp']\": {'old_type': <class 'float'>, 'new_type': <class 'int'>, 'old_value': 1.0, 'new_value': 1}}, 'dictionary_item_added': [root['rnet']['memory']['skip_traj']], 'dictionary_item_removed': [root['exploration_buffer']['algo'], root['replay_buffer']['algo'], root['replay_buffer']['neg_action'], root['replay_buffer']['neg_goal'], root['replay_buffer']['cut_traj']], 'values_changed': {\"root['main']['suffix']\": {'new_value': 'rs${replay_buffer.reward_scaling}-lr${sac.optim.lr}-bs${sac.optim.batch_size}-updates${sac.optim.num_updates_per_epoch}-alpha${sac.optim.entropy.alpha}-gamma${sac.optim.gamma}-${main.reward}-reward-temp-${main.reward_sigm_temp}-subgoal${main.subgoal_transitions}-asym-fix-seed_cudnn', 'old_value': 'ours'}, \"root['replay_buffer']['capacity']\": {'new_value': 100000, 'old_value': 1000000}, \"root['replay_buffer']['num_procs']\": {'new_value': 10, 'old_value': 20}, \"root['rnet']['memory']['node_skip']\": {'new_value': 0.01, 'old_value': 0.05}, \"root['rnet']['memory']['edge_skip']\": {'new_value': 0.01, 'old_value': 0.05}}}\n"
     ]
    }
   ],
   "source": [
    "import yaml\n",
    "from deepdiff import DeepDiff\n",
    "\n",
    "def yaml_as_dict(my_file):\n",
    "    my_dict = {}\n",
    "    with open(my_file, 'r') as fp:\n",
    "        docs = yaml.safe_load_all(fp)\n",
    "        for doc in docs:\n",
    "            for key, value in doc.items():\n",
    "                my_dict[key] = value\n",
    "    return my_dict\n",
    "\n",
    "if __name__ == '__main__':\n",
    "    yaml_file1 = cfg_path1\n",
    "    yaml_file2 = cfg_path2\n",
    "    a = yaml_as_dict(yaml_file1)\n",
    "    b = yaml_as_dict(yaml_file2)\n",
    "    ddiff = DeepDiff(a, b, ignore_order=True)\n",
    "    print(ddiff)"
   ]
  },
  {
   "cell_type": "code",
   "execution_count": 75,
   "id": "restricted-grain",
   "metadata": {},
   "outputs": [
    {
     "name": "stdout",
     "output_type": "stream",
     "text": [
      "type_changes\n",
      "root['main']['load_from_dir']\n",
      "root['main']['reward_sigm_temp']\n",
      "dictionary_item_added\n",
      "root['rnet']['memory']['skip_traj']\n",
      "dictionary_item_removed\n",
      "root['exploration_buffer']['algo']\n",
      "root['replay_buffer']['algo']\n",
      "root['replay_buffer']['neg_action']\n",
      "root['replay_buffer']['neg_goal']\n",
      "root['replay_buffer']['cut_traj']\n",
      "values_changed\n",
      "root['main']['suffix']\n",
      "root['replay_buffer']['capacity']\n",
      "root['replay_buffer']['num_procs']\n",
      "root['rnet']['memory']['node_skip']\n",
      "root['rnet']['memory']['edge_skip']\n"
     ]
    }
   ],
   "source": [
    "for key in ddiff:\n",
    "    print(key)\n",
    "    for k in ddiff[key]:\n",
    "        print(k)"
   ]
  },
  {
   "cell_type": "code",
   "execution_count": 35,
   "id": "characteristic-cameroon",
   "metadata": {},
   "outputs": [
    {
     "name": "stdout",
     "output_type": "stream",
     "text": [
      "{'new_value': '/checkpoint/${env:USER}/offline-gcrl/data/${env.id}/${exploration_buffer.algo}/buffer', 'old_value': '/checkpoint/${env:USER}/offline-gcrl/data/walker/proto/buffer'}\n"
     ]
    }
   ],
   "source": [
    "print(ddiff[\"values_changed\"][\"root['exploration_buffer']['data_dir']\"])"
   ]
  },
  {
   "cell_type": "code",
   "execution_count": 76,
   "id": "demographic-beach",
   "metadata": {},
   "outputs": [
    {
     "data": {
      "text/plain": [
       "{'capacity': 1000000,\n",
       " 'reward_scaling': 0.1,\n",
       " 'num_procs': 20,\n",
       " 'frame_stack': '${env.frame_stack}',\n",
       " 'algo': None,\n",
       " 'neg_action': None,\n",
       " 'neg_goal': None,\n",
       " 'cut_traj': False}"
      ]
     },
     "execution_count": 76,
     "metadata": {},
     "output_type": "execute_result"
    }
   ],
   "source": [
    "a['replay_buffer']"
   ]
  },
  {
   "cell_type": "code",
   "execution_count": 77,
   "id": "structural-military",
   "metadata": {},
   "outputs": [
    {
     "data": {
      "text/plain": [
       "{'capacity': 100000,\n",
       " 'reward_scaling': 0.1,\n",
       " 'num_procs': 10,\n",
       " 'frame_stack': '${env.frame_stack}'}"
      ]
     },
     "execution_count": 77,
     "metadata": {},
     "output_type": "execute_result"
    }
   ],
   "source": [
    "b['replay_buffer']"
   ]
  },
  {
   "cell_type": "code",
   "execution_count": 63,
   "id": "divided-logic",
   "metadata": {},
   "outputs": [
    {
     "data": {
      "text/plain": [
       "{'model': {'feat_size': 16,\n",
       "  'hidden_size': 64,\n",
       "  'comparator': 'net',\n",
       "  'n_layers': 3,\n",
       "  'comp_n_layers': 2,\n",
       "  'remove_velocity': True,\n",
       "  'dims_to_keep': '${env.obs.no_velocity_size}'},\n",
       " 'dataset': {'thresh': 5,\n",
       "  'neg_thresh': 0,\n",
       "  'in_traj_ratio': 0.5,\n",
       "  'neg_ratio': 0.5,\n",
       "  'symmetric': False,\n",
       "  'valid_ratio': 0.05,\n",
       "  'num_pairs': {'train': 500000, 'val': 100000}},\n",
       " 'train': {'lr': 0.001,\n",
       "  'num_epochs': 20,\n",
       "  'batch_size': 512,\n",
       "  'num_workers': 32,\n",
       "  'weight_decay': 1e-05},\n",
       " 'memory': {'thresh': 0,\n",
       "  'capacity': 1000,\n",
       "  'node_skip': 0.05,\n",
       "  'edge_skip': 0.05,\n",
       "  'NN_batch_size': 1001,\n",
       "  'directed': True}}"
      ]
     },
     "execution_count": 63,
     "metadata": {},
     "output_type": "execute_result"
    }
   ],
   "source": [
    "b['rnet']"
   ]
  },
  {
   "cell_type": "code",
   "execution_count": 21,
   "id": "broad-arlington",
   "metadata": {},
   "outputs": [
    {
     "data": {
      "text/plain": [
       "{'id': 'walker',\n",
       " 'success_thresh': 0.7,\n",
       " 'max_episode_steps': 1000,\n",
       " 'action_repeat': 2,\n",
       " 'random_start_pos': False,\n",
       " 'obs': {'type': 'vec',\n",
       "  'state_size': 18,\n",
       "  'vec_size': 24,\n",
       "  'rgb_size': 64,\n",
       "  'no_velocity_size': 15},\n",
       " 'action_dim': 6,\n",
       " 'frame_stack': 1,\n",
       " 'obs_type': 'vec'}"
      ]
     },
     "execution_count": 21,
     "metadata": {},
     "output_type": "execute_result"
    }
   ],
   "source": [
    "b['env']"
   ]
  },
  {
   "cell_type": "code",
   "execution_count": 22,
   "id": "minus-sample",
   "metadata": {},
   "outputs": [
    {
     "data": {
      "text/plain": [
       "{'id': 'walker',\n",
       " 'success_thresh': 0.7,\n",
       " 'max_episode_steps': 1000,\n",
       " 'action_repeat': 2,\n",
       " 'random_start_pos': False,\n",
       " 'obs': {'type': 'vec', 'state_size': 18, 'vec_size': 24, 'rgb_size': 64},\n",
       " 'action_dim': 6,\n",
       " 'obs_type': 'vec'}"
      ]
     },
     "execution_count": 22,
     "metadata": {},
     "output_type": "execute_result"
    }
   ],
   "source": [
    "a['env']"
   ]
  },
  {
   "cell_type": "code",
   "execution_count": null,
   "id": "bound-boating",
   "metadata": {},
   "outputs": [],
   "source": []
  }
 ],
 "metadata": {
  "kernelspec": {
   "display_name": "polybeast",
   "language": "python",
   "name": "polybeast"
  },
  "language_info": {
   "codemirror_mode": {
    "name": "ipython",
    "version": 3
   },
   "file_extension": ".py",
   "mimetype": "text/x-python",
   "name": "python",
   "nbconvert_exporter": "python",
   "pygments_lexer": "ipython3",
   "version": "3.7.4"
  }
 },
 "nbformat": 4,
 "nbformat_minor": 5
}
